{
 "cells": [
  {
   "cell_type": "code",
   "execution_count": 2,
   "metadata": {},
   "outputs": [],
   "source": [
    "from selenium import webdriver\n",
    "from selenium.webdriver.common.keys import Keys\n",
    "import time\n",
    "import urllib.request\n",
    "import os\n",
    "from selenium.webdriver.common.by import By"
   ]
  },
  {
   "cell_type": "code",
   "execution_count": 3,
   "metadata": {},
   "outputs": [
    {
     "name": "stdout",
     "output_type": "stream",
     "text": [
      "안에 pettext 골든리트리버\n"
     ]
    }
   ],
   "source": [
    "petText=input(\"검색어를 입력하세요\").split()\n",
    "# print('밖에 pettext'+petText)\n",
    "# petText=['말티즈']\n",
    "time.sleep(2)\n",
    "\n",
    "def createDirectory(directory):\n",
    "    try:\n",
    "        if not os.path.exists(directory):\n",
    "           os.makedirs(directory)\n",
    "    except OSError:\n",
    "        print('Error: Failed to create the directory') \n",
    "\n",
    "\n",
    "\n",
    "def crawling_img(petText):\n",
    "  print('안에 pettext',petText)\n",
    "  driver=webdriver.Chrome('chromedriver')\n",
    "  driver.implicitly_wait(3)\n",
    "  driver.get('https://www.google.co.kr/imghp?hl=ko&tab=wi&ogbl')\n",
    "  elem=driver.find_element(By.CSS_SELECTOR,\"[name='q']\")\n",
    "  elem.send_keys(petText)\n",
    "  driver.implicitly_wait(3)\n",
    "  time.sleep(2)\n",
    "  elem.send_keys(Keys.ENTER)\n",
    "  SCROLL_PAUSE_TIME = 1\n",
    "  # Get scroll height\n",
    "  last_height = driver.execute_script(\"return document.body.scrollHeight\")\n",
    "  while True :\n",
    "      driver.execute_script(\"window.scrollTo(0, document.body.scrollHeight);\")  # 브라우저 끝까지 스크롤을 내림\n",
    "      time.sleep(SCROLL_PAUSE_TIME)\n",
    "      # Calculate new scroll height and compare with last scroll height\n",
    "      new_height = driver.execute_script(\"return document.body.scrollHeight\")\n",
    "      if new_height == last_height:\n",
    "          try:\n",
    "              driver.find_element(By.CSS_SELECTOR,\".mye4qd\").click()\n",
    "          except:\n",
    "              break\n",
    "      last_height = new_height\n",
    "\n",
    "  imgs = driver.find_elements(By.CSS_SELECTOR,\".rg_i.Q4LuWd\")\n",
    "  dir='data/'+petText\n",
    "\n",
    "  createDirectory(dir)\n",
    "  count=1\n",
    "  for img in imgs : \n",
    "    try:\n",
    "        img.click()\n",
    "        time.sleep(2)\n",
    "        imgUrl = driver.find_element(By.XPATH,\n",
    "                '//*[@id=\"Sva75c\"]/div[2]/div/div[2]/div[2]/div[2]/c-wiz/div/div[1]/div[2]/div[2]/div/a/img').get_attribute(\n",
    "                \"src\") # 크게 뜬 이미지 선택하여 \"src\" 속성을 받아옴\n",
    "        path = 'data/'+ petText +'/' #저장할 경로\n",
    "        urllib.request.urlretrieve(imgUrl, path + petText + str(count) + \".jpg\") \n",
    "        count = count + 1\n",
    "\n",
    "        if count > 2:\n",
    "            break\n",
    "\n",
    "    except:\n",
    "        pass\n",
    "\n",
    "  driver.close()\n",
    "\n",
    "\n",
    "for pet in petText:\n",
    "    crawling_img(pet)"
   ]
  }
 ],
 "metadata": {
  "kernelspec": {
   "display_name": "base",
   "language": "python",
   "name": "python3"
  },
  "language_info": {
   "codemirror_mode": {
    "name": "ipython",
    "version": 3
   },
   "file_extension": ".py",
   "mimetype": "text/x-python",
   "name": "python",
   "nbconvert_exporter": "python",
   "pygments_lexer": "ipython3",
   "version": "3.9.13"
  },
  "orig_nbformat": 4
 },
 "nbformat": 4,
 "nbformat_minor": 2
}
