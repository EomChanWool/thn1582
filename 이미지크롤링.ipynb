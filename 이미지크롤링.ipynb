from selenium import webdriver
from selenium.webdriver.common.keys import Keys
import time
import urllib.request
import os
from selenium.webdriver.common.by import By


petText=input("검색어를 입력하세요").split()
# print('밖에 pettext'+petText)
# petText=['말티즈']
time.sleep(2)

def createDirectory(directory):
    try:
        if not os.path.exists(directory):
           os.makedirs(directory)
    except OSError:
        print('Error: Failed to create the directory') 



def crawling_img(petText):
  print('안에 pettext',petText)
  driver=webdriver.Chrome('chromedriver')
  driver.implicitly_wait(3)
  driver.get('https://www.google.co.kr/imghp?hl=ko&tab=wi&ogbl')
  elem=driver.find_element(By.CSS_SELECTOR,"[name='q']")
  elem.send_keys(petText)
  driver.implicitly_wait(3)
  time.sleep(2)
  elem.send_keys(Keys.ENTER)
  SCROLL_PAUSE_TIME = 1
  # Get scroll height
  last_height = driver.execute_script("return document.body.scrollHeight")
  while True :
      driver.execute_script("window.scrollTo(0, document.body.scrollHeight);")  # 브라우저 끝까지 스크롤을 내림
      time.sleep(SCROLL_PAUSE_TIME)
      # Calculate new scroll height and compare with last scroll height
      new_height = driver.execute_script("return document.body.scrollHeight")
      if new_height == last_height:
          try:
              driver.find_element(By.CSS_SELECTOR,".mye4qd").click()
          except:
              break
      last_height = new_height

  imgs = driver.find_elements(By.CSS_SELECTOR,".rg_i.Q4LuWd")
  dir='data/'+petText

  createDirectory(dir)
  count=1
  for img in imgs : 
    try:
        img.click()
        time.sleep(2)
        imgUrl = driver.find_element(By.XPATH,
                '//*[@id="Sva75c"]/div[2]/div/div[2]/div[2]/div[2]/c-wiz/div/div[1]/div[2]/div[2]/div/a/img').get_attribute(
                "src") # 크게 뜬 이미지 선택하여 "src" 속성을 받아옴
        path = 'data/'+ petText +'/' #저장할 경로
        urllib.request.urlretrieve(imgUrl, path + petText + str(count) + ".jpg") 
        count = count + 1

        if count > 260:
            break

    except:
        pass

  driver.close()


for pet in petText:
    crawling_img(pet)
